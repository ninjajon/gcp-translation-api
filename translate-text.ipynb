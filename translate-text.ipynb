{
 "cells": [
  {
   "cell_type": "markdown",
   "id": "0736a990-c43d-4e9b-90ed-ace4aeef44cf",
   "metadata": {},
   "source": [
    "# Translate VTT documents"
   ]
  },
  {
   "cell_type": "markdown",
   "id": "9745e837-96e3-41fe-9a9d-ced61212ace5",
   "metadata": {
    "jp-MarkdownHeadingCollapsed": true,
    "tags": []
   },
   "source": [
    "## Install Libraries"
   ]
  },
  {
   "cell_type": "code",
   "execution_count": null,
   "id": "e8d3b1a6-49c0-42dc-81d5-281f9ebacccb",
   "metadata": {
    "tags": []
   },
   "outputs": [],
   "source": [
    "pip install google-cloud-translate==2.0.1"
   ]
  },
  {
   "cell_type": "markdown",
   "id": "b4dada01-4372-4794-8082-5e175f8d8376",
   "metadata": {
    "jp-MarkdownHeadingCollapsed": true,
    "tags": []
   },
   "source": [
    "## Translate function"
   ]
  },
  {
   "cell_type": "code",
   "execution_count": 2,
   "id": "0d98b76d-6c5a-4db2-92a5-59d68aaedea0",
   "metadata": {
    "tags": []
   },
   "outputs": [],
   "source": [
    "def translate_text(target: str, text: str) -> dict:\n",
    "    \"\"\"Translates text into the target language.\n",
    "\n",
    "    Target must be an ISO 639-1 language code.\n",
    "    See https://g.co/cloud/translate/v2/translate-reference#supported_languages\n",
    "    \"\"\"\n",
    "    from google.cloud import translate_v2 as translate\n",
    "\n",
    "    translate_client = translate.Client()\n",
    "\n",
    "    if isinstance(text, bytes):\n",
    "        text = text.decode(\"utf-8\")\n",
    "\n",
    "    # Text can also be a sequence of strings, in which case this method\n",
    "    # will return a sequence of results for each text.\n",
    "    result = translate_client.translate(text, target_language=target)\n",
    "\n",
    "    print(\"Text: {}\".format(result[\"input\"]))\n",
    "    print(\"Translation: {}\".format(result[\"translatedText\"]))\n",
    "    print(\"Detected source language: {}\".format(result[\"detectedSourceLanguage\"]))\n",
    "\n",
    "    return result"
   ]
  },
  {
   "cell_type": "markdown",
   "id": "7392cd05-75e5-4cf9-96bf-e38210996aba",
   "metadata": {},
   "source": [
    "## Call function"
   ]
  },
  {
   "cell_type": "code",
   "execution_count": 5,
   "id": "dd92560d-0b88-4f5e-89eb-b67af5f5e1cc",
   "metadata": {
    "tags": []
   },
   "outputs": [
    {
     "name": "stdout",
     "output_type": "stream",
     "text": [
      "Text: what is your name?\n",
      "Translation: quel est ton nom ?\n",
      "Detected source language: en\n"
     ]
    }
   ],
   "source": [
    "translated_text = translate_text(\"fr\", \"what is your name?\")"
   ]
  },
  {
   "cell_type": "code",
   "execution_count": null,
   "id": "ecf6e360-f20a-459f-ad7e-ce0812b93848",
   "metadata": {},
   "outputs": [],
   "source": []
  }
 ],
 "metadata": {
  "environment": {
   "kernel": "conda-root-py",
   "name": "workbench-notebooks.m119",
   "type": "gcloud",
   "uri": "us-docker.pkg.dev/deeplearning-platform-release/gcr.io/workbench-notebooks:m119"
  },
  "kernelspec": {
   "display_name": "Python 3 (ipykernel) (Local)",
   "language": "python",
   "name": "conda-root-py"
  },
  "language_info": {
   "codemirror_mode": {
    "name": "ipython",
    "version": 3
   },
   "file_extension": ".py",
   "mimetype": "text/x-python",
   "name": "python",
   "nbconvert_exporter": "python",
   "pygments_lexer": "ipython3",
   "version": "3.10.14"
  }
 },
 "nbformat": 4,
 "nbformat_minor": 5
}
