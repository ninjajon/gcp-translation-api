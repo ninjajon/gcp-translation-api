{
 "cells": [
  {
   "cell_type": "markdown",
   "id": "0736a990-c43d-4e9b-90ed-ace4aeef44cf",
   "metadata": {},
   "source": [
    "# Translate Document"
   ]
  },
  {
   "cell_type": "markdown",
   "id": "9745e837-96e3-41fe-9a9d-ced61212ace5",
   "metadata": {
    "jp-MarkdownHeadingCollapsed": true,
    "tags": []
   },
   "source": [
    "## Install Libraries"
   ]
  },
  {
   "cell_type": "code",
   "execution_count": null,
   "id": "e8d3b1a6-49c0-42dc-81d5-281f9ebacccb",
   "metadata": {
    "tags": []
   },
   "outputs": [],
   "source": [
    "pip install --upgrade google-cloud-translate google-cloud-storage FPDF2 srt"
   ]
  },
  {
   "cell_type": "markdown",
   "id": "beb66b4e-346c-4dbb-9975-c5edde7dc336",
   "metadata": {
    "jp-MarkdownHeadingCollapsed": true,
    "tags": []
   },
   "source": [
    "## Set variables"
   ]
  },
  {
   "cell_type": "code",
   "execution_count": 21,
   "id": "b808041a-1343-424e-90da-bad4fd6c5241",
   "metadata": {
    "tags": []
   },
   "outputs": [
    {
     "ename": "",
     "evalue": "",
     "output_type": "error",
     "traceback": [
      "\u001b[1;31mRunning cells with 'Python 3.11.9' requires the ipykernel package.\n",
      "\u001b[1;31mRun the following command to install 'ipykernel' into the Python environment. \n",
      "\u001b[1;31mCommand: '/bin/python3 -m pip install ipykernel -U --user --force-reinstall'"
     ]
    }
   ],
   "source": [
    "project_id = \"jo-vertex-ai-playground-ffyc\"\n",
    "location = \"us-central1\"\n",
    "bucket_name = \"jo-translation-docs\"\n",
    "input_folder_name = \"input\"\n",
    "input_file_name = \"KT_session_with_PwC.vtt\"\n",
    "converted_folder_name = \"converted\"\n",
    "converted_file_name = \"KT_session_with_PwC.pdf\"\n",
    "output_folder_name = \"output\"\n",
    "output_file_name = \"KT_session_with_PwC_FR.pdf\"\n",
    "source_language_code = \"en\"\n",
    "target_language_code = \"fr\""
   ]
  },
  {
   "cell_type": "markdown",
   "id": "101ba28a-cceb-4e18-ac78-fe9dea86f752",
   "metadata": {
    "jp-MarkdownHeadingCollapsed": true,
    "tags": []
   },
   "source": [
    "## Download VTT document"
   ]
  },
  {
   "cell_type": "code",
   "execution_count": null,
   "id": "fc1507fd-a439-4531-b239-152b535e7f7f",
   "metadata": {
    "tags": []
   },
   "outputs": [],
   "source": [
    "from google.cloud import storage\n",
    "\n",
    "def read_gcs_file(bucket_name, input_folder_name, input_file_name):\n",
    "\n",
    "    storage_client = storage.Client()\n",
    "    bucket = storage_client.bucket(bucket_name)\n",
    "    blob = bucket.blob(f\"{input_folder_name}/{input_file_name}\")\n",
    "\n",
    "    content = blob.download_as_string()\n",
    "    content = content.decode('utf-8') \n",
    "\n",
    "    return content\n",
    "\n",
    "file_content = read_gcs_file(bucket_name, input_folder_name, input_file_name)\n",
    "print(file_content)"
   ]
  },
  {
   "cell_type": "markdown",
   "id": "0117d2e9-65a9-4f7c-9022-b16dbb32932c",
   "metadata": {
    "jp-MarkdownHeadingCollapsed": true,
    "tags": []
   },
   "source": [
    "## Convert VTT to PDF"
   ]
  },
  {
   "cell_type": "code",
   "execution_count": 23,
   "id": "0ee5a659-d2d0-4cef-a530-79059648bb3c",
   "metadata": {
    "tags": []
   },
   "outputs": [],
   "source": [
    "from fpdf import FPDF\n",
    "from google.cloud import storage\n",
    "\n",
    "def convert_to_pdf(text_content, bucket_name, converted_folder_name, converted_file_name):\n",
    "\n",
    "    pdf = FPDF()\n",
    "    pdf.add_page()\n",
    "    pdf.set_font(\"helvetica\", size=12)\n",
    "\n",
    "    pdf.multi_cell(0, 10, text_content) \n",
    "    temp_file_path = \"temp_output.pdf\"\n",
    "    pdf.output(temp_file_path)\n",
    "\n",
    "    # Upload to GCS\n",
    "    storage_client = storage.Client()\n",
    "    bucket = storage_client.bucket(bucket_name)\n",
    "    blob = bucket.blob(f\"{converted_folder_name}/{converted_file_name}\")\n",
    "    blob.upload_from_filename(temp_file_path)\n",
    "\n",
    "# Example usage\n",
    "pdf_file_path = \"output.pdf\"\n",
    "convert_to_pdf(file_content, bucket_name, converted_folder_name, converted_file_name)"
   ]
  },
  {
   "cell_type": "markdown",
   "id": "b4dada01-4372-4794-8082-5e175f8d8376",
   "metadata": {
    "tags": []
   },
   "source": [
    "## Translate function"
   ]
  },
  {
   "cell_type": "code",
   "execution_count": 63,
   "id": "0d98b76d-6c5a-4db2-92a5-59d68aaedea0",
   "metadata": {
    "tags": []
   },
   "outputs": [],
   "source": [
    "# Imports the Google Cloud Translation library\n",
    "from google.cloud import translate_v3\n",
    "\n",
    "# Initialize Translation client\n",
    "def translate_document(    \n",
    "    bucket_name,\n",
    "    converted_folder_name,\n",
    "    converted_file_name,\n",
    "    location,\n",
    "    project_id,    \n",
    "    source_language_code,\n",
    "    target_language_code,\n",
    "    output_folder_name,\n",
    "    output_file_name\n",
    ") -> translate_v3.TranslationServiceClient:\n",
    "\n",
    "    client = translate_v3.TranslationServiceClient()\n",
    "\n",
    "    location = location\n",
    "\n",
    "    parent = f\"projects/{project_id}/locations/{location}\"\n",
    "    \n",
    "    document_input_config = {\n",
    "        \"gcs_source\": {\n",
    "            \"input_uri\": f\"gs://{bucket_name}/{converted_folder_name}/{converted_file_name}\"\n",
    "        },\n",
    "        \"mime_type\": \"application/pdf\"\n",
    "    }\n",
    "        \n",
    "    document_output_config = {\n",
    "        \"gcs_destination\": {\n",
    "            \"output_uri_prefix\": f\"gs://{bucket_name}/{output_folder_name}/\"\n",
    "        },\n",
    "        \"file_name\": output_file_name\n",
    "    }\n",
    "  \n",
    "    response = client.translate_document(\n",
    "        request={\n",
    "            \"parent\": parent,\n",
    "            \"source_language_code\": source_language_code,\n",
    "            \"target_language_code\": target_language_code,\n",
    "            \"document_input_config\": document_input_config,\n",
    "            \"document_output_config\": document_output_config,\n",
    "            \"is_translate_native_pdf_only\": True\n",
    "        }\n",
    "    )\n",
    "    \n",
    "    print(response)\n",
    "\n",
    "    return response"
   ]
  },
  {
   "cell_type": "markdown",
   "id": "7392cd05-75e5-4cf9-96bf-e38210996aba",
   "metadata": {
    "tags": []
   },
   "source": [
    "## Call function"
   ]
  },
  {
   "cell_type": "code",
   "execution_count": null,
   "id": "dd92560d-0b88-4f5e-89eb-b67af5f5e1cc",
   "metadata": {
    "tags": []
   },
   "outputs": [],
   "source": [
    "translated_document = translate_document(\n",
    "    bucket_name,\n",
    "    converted_folder_name,\n",
    "    converted_file_name,\n",
    "    location,\n",
    "    project_id,    \n",
    "    source_language_code,\n",
    "    target_language_code,\n",
    "    output_folder_name,\n",
    "    output_file_name\n",
    ")"
   ]
  }
 ],
 "metadata": {
  "environment": {
   "kernel": "conda-root-py",
   "name": "workbench-notebooks.m119",
   "type": "gcloud",
   "uri": "us-docker.pkg.dev/deeplearning-platform-release/gcr.io/workbench-notebooks:m119"
  },
  "kernelspec": {
   "display_name": "Python 3",
   "language": "python",
   "name": "python3"
  },
  "language_info": {
   "codemirror_mode": {
    "name": "ipython",
    "version": 3
   },
   "file_extension": ".py",
   "mimetype": "text/x-python",
   "name": "python",
   "nbconvert_exporter": "python",
   "pygments_lexer": "ipython3",
   "version": "3.11.9"
  }
 },
 "nbformat": 4,
 "nbformat_minor": 5
}
