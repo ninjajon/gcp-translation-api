{
 "cells": [
  {
   "cell_type": "markdown",
   "id": "0736a990-c43d-4e9b-90ed-ace4aeef44cf",
   "metadata": {},
   "source": [
    "# Translate Text with v3"
   ]
  },
  {
   "cell_type": "markdown",
   "id": "9745e837-96e3-41fe-9a9d-ced61212ace5",
   "metadata": {
    "jp-MarkdownHeadingCollapsed": true,
    "tags": []
   },
   "source": [
    "## Install Libraries"
   ]
  },
  {
   "cell_type": "code",
   "execution_count": null,
   "id": "e8d3b1a6-49c0-42dc-81d5-281f9ebacccb",
   "metadata": {
    "tags": []
   },
   "outputs": [],
   "source": [
    "pip install google-cloud-translate==2.0.1"
   ]
  },
  {
   "cell_type": "markdown",
   "id": "beb66b4e-346c-4dbb-9975-c5edde7dc336",
   "metadata": {
    "jp-MarkdownHeadingCollapsed": true,
    "tags": []
   },
   "source": [
    "## Set variables"
   ]
  },
  {
   "cell_type": "code",
   "execution_count": 4,
   "id": "b808041a-1343-424e-90da-bad4fd6c5241",
   "metadata": {
    "tags": []
   },
   "outputs": [],
   "source": [
    "PROJECT_ID = \"jo-vertex-ai-playground-ffyc\""
   ]
  },
  {
   "cell_type": "markdown",
   "id": "b4dada01-4372-4794-8082-5e175f8d8376",
   "metadata": {
    "tags": []
   },
   "source": [
    "## Translate function"
   ]
  },
  {
   "cell_type": "code",
   "execution_count": 15,
   "id": "0d98b76d-6c5a-4db2-92a5-59d68aaedea0",
   "metadata": {
    "tags": []
   },
   "outputs": [],
   "source": [
    "from google.cloud import translate\n",
    "\n",
    "def translate_text(text, project_id\n",
    "    ) -> translate.TranslationServiceClient:\n",
    "    \"\"\"Translating Text.\"\"\"\n",
    "\n",
    "    client = translate.TranslationServiceClient()\n",
    "\n",
    "    location = \"global\"\n",
    "\n",
    "    parent = f\"projects/{project_id}/locations/{location}\"\n",
    "\n",
    "    response = client.translate_text(\n",
    "        parent= parent,\n",
    "        contents= [text],\n",
    "        mime_type= \"text/plain\",  # mime types: text/plain, text/html\n",
    "        source_language_code= \"en-US\",\n",
    "        target_language_code= \"fr\"\n",
    "    )\n",
    "\n",
    "    # Display the translation for each input text provided\n",
    "    for translation in response.translations:\n",
    "        print(f\"Translated text: {translation.translated_text}\")\n",
    "\n",
    "    return response"
   ]
  },
  {
   "cell_type": "markdown",
   "id": "7392cd05-75e5-4cf9-96bf-e38210996aba",
   "metadata": {
    "tags": []
   },
   "source": [
    "## Call function"
   ]
  },
  {
   "cell_type": "code",
   "execution_count": 17,
   "id": "dd92560d-0b88-4f5e-89eb-b67af5f5e1cc",
   "metadata": {
    "tags": []
   },
   "outputs": [
    {
     "name": "stdout",
     "output_type": "stream",
     "text": [
      "Translated text: quel est ton nom ?\n"
     ]
    }
   ],
   "source": [
    "translated_text = translate_text(\"what is your name?\", PROJECT_ID)"
   ]
  }
 ],
 "metadata": {
  "environment": {
   "kernel": "conda-root-py",
   "name": "workbench-notebooks.m119",
   "type": "gcloud",
   "uri": "us-docker.pkg.dev/deeplearning-platform-release/gcr.io/workbench-notebooks:m119"
  },
  "kernelspec": {
   "display_name": "Python 3 (ipykernel) (Local)",
   "language": "python",
   "name": "conda-root-py"
  },
  "language_info": {
   "codemirror_mode": {
    "name": "ipython",
    "version": 3
   },
   "file_extension": ".py",
   "mimetype": "text/x-python",
   "name": "python",
   "nbconvert_exporter": "python",
   "pygments_lexer": "ipython3",
   "version": "3.10.14"
  }
 },
 "nbformat": 4,
 "nbformat_minor": 5
}
